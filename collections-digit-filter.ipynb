{
 "cells": [
  {
   "cell_type": "code",
   "execution_count": 2,
   "metadata": {
    "tags": [
     "parameters"
    ]
   },
   "outputs": [
    {
     "name": "stdout",
     "output_type": "stream",
     "text": [
      "['DCI', 'Digital', 'Career']\n"
     ]
    }
   ],
   "source": [
    "def digit_filter(lst):  # 1. Define the digit_filter function that takes a list of strings as an argument.\n",
    "    \"\"\"\n",
    "    Filters the list to only include strings that don't contain a number.\n",
    "    \"\"\"\n",
    "    return [s for s in lst if not any(c.isdigit() for c in s)]  # 2. Use a list comprehension to filter the list to only include strings that don't contain a number.\n",
    "\n",
    "l33t = ['Digital Car33r Institute', 'DCI', 'Digital', 'Career', 'Inst1tut3']  # 3. Define a list of strings to be used as input for the digit_filter function.\n",
    "result = digit_filter(l33t)  # 4. Call the digit_filter function with the list of strings.\n",
    "print(result)  # 5. Print the filtered list to the terminal."
   ]
  },
  {
   "attachments": {},
   "cell_type": "markdown",
   "metadata": {},
   "source": [
    "The digit_filter function is a Python function that takes a list of strings as an argument and filters the list to only include strings that don't contain a number. The function uses a list comprehension to iterate over each string in the list and checks if any character in the string is a digit using the isdigit() method. If the string doesn't contain any digits, it is included in the filtered list. The function returns the filtered list of strings. The code defines a list of strings to be used as input for the digit_filter function, calls the function with the list of strings, and prints the filtered list to the termina"
   ]
  },
  {
   "cell_type": "code",
   "execution_count": 3,
   "metadata": {},
   "outputs": [
    {
     "name": "stdout",
     "output_type": "stream",
     "text": [
      "[2, 4, 6, 8, 10]\n"
     ]
    }
   ],
   "source": [
    "numbers = [1, 2, 3, 4, 5, 6, 7, 8, 9, 10]  # 1. Define a list of numbers to be used as input.\n",
    "even_numbers = [n for n in numbers if n % 2 == 0]  # 2. Use a list comprehension to create a new list that only includes the even numbers from the input list.\n",
    "print(even_numbers)  # 3. Print the new list of even numbers to the terminal."
   ]
  },
  {
   "cell_type": "code",
   "execution_count": 5,
   "metadata": {},
   "outputs": [
    {
     "name": "stdout",
     "output_type": "stream",
     "text": [
      "[1, 4, 9, 16, 25]\n"
     ]
    }
   ],
   "source": [
    "numbers = [1, 2, 3, 4, 5] # 1. Define a list of numbers to be used as input.\n",
    "squares = [n**2 for n in numbers] # 2. use a list comprehension to create a new list that contains the squares of each number in the input list.\n",
    "print(squares)"
   ]
  },
  {
   "cell_type": "code",
   "execution_count": 6,
   "metadata": {},
   "outputs": [
    {
     "name": "stdout",
     "output_type": "stream",
     "text": [
      "[(1, [1]), (2, [1, 2]), (3, [1, 3]), (4, [1, 2, 4]), (5, [1, 5])]\n"
     ]
    }
   ],
   "source": [
    "numbers = [1, 2, 3, 4, 5] # 1. Define a list of numbers to be used as input.\n",
    "factors = [(n, [i for i in range(1, n+1) if n % i == 0]) for n in numbers] # 2. use a List comprehension to create a new list of tuples where each tuple contains a number and its #factors\n",
    "print(factors)"
   ]
  }
 ],
 "metadata": {
  "kernelspec": {
   "display_name": "Python 3",
   "language": "python",
   "name": "python3"
  },
  "language_info": {
   "codemirror_mode": {
    "name": "ipython",
    "version": 3
   },
   "file_extension": ".py",
   "mimetype": "text/x-python",
   "name": "python",
   "nbconvert_exporter": "python",
   "pygments_lexer": "ipython3",
   "version": "3.11.3"
  },
  "orig_nbformat": 4
 },
 "nbformat": 4,
 "nbformat_minor": 2
}
